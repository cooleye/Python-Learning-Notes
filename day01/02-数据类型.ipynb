{
 "cells": [
  {
   "attachments": {},
   "cell_type": "markdown",
   "metadata": {},
   "source": [
    "# 数据类型\n",
    "在编程中，数据类型是一个重要的概念。\n",
    "\n",
    "变量可以存储不同类型的数据，并且不同类型可以执行不同的操作。\n",
    "\n",
    "在这些类别中，Python 默认拥有以下内置数据类型：\n",
    "\n",
    "文本类型:\tstr\n",
    "数值类型:\tint, float, complex\n",
    "序列类型:\tlist, tuple, range\n",
    "映射类型:\tdict\n",
    "集合类型:\tset, frozenset\n",
    "布尔类型:\tbool\n",
    "二进制类型:\tbytes, bytearray, memoryview"
   ]
  },
  {
   "cell_type": "code",
   "execution_count": 7,
   "metadata": {},
   "outputs": [
    {
     "name": "stdout",
     "output_type": "stream",
     "text": [
      "1\n"
     ]
    }
   ],
   "source": [
    "print(1)"
   ]
  },
  {
   "attachments": {},
   "cell_type": "markdown",
   "metadata": {},
   "source": [
    "## 获取数据类型\n",
    "您可以使用 type() 函数获取任何对象的数据类型:"
   ]
  },
  {
   "cell_type": "code",
   "execution_count": 8,
   "metadata": {},
   "outputs": [
    {
     "name": "stdout",
     "output_type": "stream",
     "text": [
      "<class 'int'>\n"
     ]
    }
   ],
   "source": [
    "x = 10\n",
    "print(type(x))"
   ]
  },
  {
   "attachments": {},
   "cell_type": "markdown",
   "metadata": {},
   "source": [
    "## 设置数据类型\n",
    "\n",
    "|实例|数据类型|\n",
    "|--|--|\n",
    "x = \"Hello World\"\t|  str\t\n",
    "x = 20\t        |  int\t\n",
    "x = 20.5\t      |  float\t\n",
    "x = 1j\t| complex\t\n",
    "x = [\"apple\", \"banana\", \"cherry\"]\t| list\t\n",
    "x = (\"apple\", \"banana\", \"cherry\")\t| tuple\t\n",
    "x = range(6)\t| range\t\n",
    "x = {\"name\" : \"John\", \"age\" : 36}\t| dict\t\n",
    "x = {\"apple\", \"banana\", \"cherry\"}\t| set\t\n",
    "x = frozenset({\"apple\", \"banana\", \"cherry\"})\t| frozenset\t\n",
    "x = True\t| bool\t\n",
    "x = b\"Hello\"\t| bytes\t\n",
    "x = bytearray(5)\t| bytearray\t\n",
    "x = memoryview(bytes(5)) | memoryview"
   ]
  },
  {
   "cell_type": "code",
   "execution_count": 20,
   "metadata": {},
   "outputs": [
    {
     "name": "stdout",
     "output_type": "stream",
     "text": [
      "1j\n",
      "['apple', 'banana', 'cherry'] ('apple', 'banana', 'cherry')\n",
      "range(0, 6)\n",
      "aa\n",
      "{'bb', 'cc', 'aa'}\n",
      "b'Hello'\n",
      "bytearray(b'\\x00\\x00\\x00\\x00\\x00')\n",
      "<memory at 0x7f90cf6eaf80>\n"
     ]
    }
   ],
   "source": [
    "x = 1j\n",
    "print(x)\n",
    "\n",
    "arr = ['apple','banana','cherry']\n",
    "arr2 = ('apple','banana','cherry')\n",
    "print(arr,arr2)\n",
    "\n",
    "ran = range(6)\n",
    "print(ran)\n",
    "\n",
    "# dict\n",
    "map1 = {'name':'aa','age':20}\n",
    "print(map1['name'])\n",
    "\n",
    "map2 = {'aa','bb','cc'}\n",
    "print(map2)\n",
    "\n",
    "b = b'Hello'\n",
    "print(b)\n",
    "\n",
    "ba = bytearray(5)\n",
    "mb = memoryview(ba)\n",
    "print(ba)\n",
    "print(mb)"
   ]
  },
  {
   "attachments": {},
   "cell_type": "markdown",
   "metadata": {},
   "source": [
    "## 设定特定的数据类型\n",
    "如果希望指定数据类型，则您可以使用以下构造函数\n",
    "|实例\t| 数据类型\t|\n",
    "|--|--|\n",
    "|x = str(\"Hello World\")\t| str\t|\n",
    "|x = int(20)\t| int\t|\n",
    "|x = float(20.5)\t| float\t|\n",
    "|x = complex(1j)\t| complex |\t\n",
    "|x = list((\"apple\", \"banana\", \"cherry\"))\t| list\t|\n",
    "|x = tuple((\"apple\", \"banana\", \"cherry\"))\t| tuple\t|\n",
    "|x = range(6)\t| range\t|\n",
    "|x = dict(name=\"John\", age=36)\t| dict\t|\n",
    "|x = set((\"apple\", \"banana\", \"cherry\"))\t| set\t|\n",
    "|x = frozenset((\"apple\", \"banana\", \"cherry\"))\t| frozenset\t|\n",
    "|x = bool(5)\t| bool\t|\n",
    "|x = bytes(5)\t| bytes\t|\n",
    "|x = bytearray(5)\t| bytearray\t|\n",
    "|x = memoryview(bytes(5))\t| memoryview    |"
   ]
  }
 ],
 "metadata": {
  "kernelspec": {
   "display_name": "base",
   "language": "python",
   "name": "python3"
  },
  "language_info": {
   "codemirror_mode": {
    "name": "ipython",
    "version": 3
   },
   "file_extension": ".py",
   "mimetype": "text/x-python",
   "name": "python",
   "nbconvert_exporter": "python",
   "pygments_lexer": "ipython3",
   "version": "3.10.9"
  },
  "orig_nbformat": 4
 },
 "nbformat": 4,
 "nbformat_minor": 2
}
