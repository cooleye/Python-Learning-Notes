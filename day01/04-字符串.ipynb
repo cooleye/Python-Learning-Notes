{
 "cells": [
  {
   "attachments": {},
   "cell_type": "markdown",
   "metadata": {},
   "source": [
    "# 字符串\n",
    "python 中的字符串字面量由单引号或双引号括起。\n",
    "\n",
    "'hello' 等同于 \"hello\".\n",
    "\n",
    "您可以使用 print() 函数显示字符串字面量:"
   ]
  },
  {
   "cell_type": "code",
   "execution_count": 17,
   "metadata": {},
   "outputs": [
    {
     "name": "stdout",
     "output_type": "stream",
     "text": [
      "hello\n",
      "Hello\n",
      "更多的活动和奖励：定期举办活动并提供丰厚的奖励将激励玩家参与游戏并保持活跃度。这些活动可以包括限时挑战、节日活动、全服Boss战等，为玩家提供额外的挑战和奖励。\n",
      "\n",
      "跨平台支持：为了扩大玩家群体和增强游戏的可访问性，游戏可以考虑提供跨平台支持，使不同平台上的玩家能够一起游戏。这将为玩家提供更广泛的游戏体验，并促进玩家之间的交流和合作\n"
     ]
    }
   ],
   "source": [
    "print('hello')\n",
    "\n",
    "a = \"Hello\"\n",
    "print(a)\n",
    "\n",
    "\n",
    "# 使用三个引号将多行字符串赋值给变量:\n",
    "\n",
    "str = '''更多的活动和奖励：定期举办活动并提供丰厚的奖励将激励玩家参与游戏并保持活跃度。这些活动可以包括限时挑战、节日活动、全服Boss战等，为玩家提供额外的挑战和奖励。\n",
    "\n",
    "跨平台支持：为了扩大玩家群体和增强游戏的可访问性，游戏可以考虑提供跨平台支持，使不同平台上的玩家能够一起游戏。这将为玩家提供更广泛的游戏体验，并促进玩家之间的交流和合作'''\n",
    "\n",
    "print(str)"
   ]
  },
  {
   "attachments": {},
   "cell_type": "markdown",
   "metadata": {},
   "source": [
    "## 字符串是数组\n",
    "像许多其他流行的编程语言一样，Python 中的字符串是表示 unicode 字符的字节数组。\n",
    "\n",
    "但是，Python 没有字符数据类型，单个字符就是长度为 1 的字符串。\n",
    "\n",
    "方括号可用于访问字符串的元素。"
   ]
  },
  {
   "cell_type": "code",
   "execution_count": 18,
   "metadata": {},
   "outputs": [
    {
     "name": "stdout",
     "output_type": "stream",
     "text": [
      "l\n"
     ]
    }
   ],
   "source": [
    "a = \"hello world\"\n",
    "print(a[2])"
   ]
  },
  {
   "attachments": {},
   "cell_type": "markdown",
   "metadata": {},
   "source": [
    "## 裁切\n",
    "您可以使用裁切语法返回一定范围的字符。\n",
    "\n",
    "指定开始索引和结束索引，以冒号分隔，以返回字符串的一部分。"
   ]
  },
  {
   "cell_type": "code",
   "execution_count": 19,
   "metadata": {},
   "outputs": [
    {
     "name": "stdout",
     "output_type": "stream",
     "text": [
      "llo\n"
     ]
    }
   ],
   "source": [
    "a = \"helloworld\"\n",
    "print(a[2:5])"
   ]
  },
  {
   "attachments": {},
   "cell_type": "markdown",
   "metadata": {},
   "source": [
    "## 负的索引\n",
    "使用负索引从字符串末尾开始切片："
   ]
  },
  {
   "cell_type": "code",
   "execution_count": 20,
   "metadata": {},
   "outputs": [
    {
     "name": "stdout",
     "output_type": "stream",
     "text": [
      "orld\n"
     ]
    }
   ],
   "source": [
    "# 获取从位置 5 到位置 1 的字符，从字符串末尾开始计数：\n",
    "\n",
    "b = \"Hello, World!\"\n",
    "print(b[-5:-1])"
   ]
  },
  {
   "attachments": {},
   "cell_type": "markdown",
   "metadata": {},
   "source": [
    "## 字符串长度\n",
    "如需获取字符串的长度，请使用 len() 函数。"
   ]
  },
  {
   "cell_type": "code",
   "execution_count": 21,
   "metadata": {},
   "outputs": [
    {
     "name": "stdout",
     "output_type": "stream",
     "text": [
      "13\n"
     ]
    }
   ],
   "source": [
    "a = \"Hello, World!\"\n",
    "print(len(a))"
   ]
  },
  {
   "attachments": {},
   "cell_type": "markdown",
   "metadata": {},
   "source": [
    "## 字符串方法\n",
    "Python 有一组可用于字符串的内置方法。"
   ]
  },
  {
   "cell_type": "code",
   "execution_count": 22,
   "metadata": {},
   "outputs": [
    {
     "name": "stdout",
     "output_type": "stream",
     "text": [
      "Hello, World!\n",
      "hello, world!\n",
      "HELLO, WORLD!\n",
      "HellJ, WJrld!\n",
      "['Hello', ' World!']\n"
     ]
    }
   ],
   "source": [
    "# strip() 方法删除开头和结尾的空白字符，类似js中的trim方法\n",
    "a = \" Hello, World! \"\n",
    "print(a.strip()) # returns \"Hello, World!\"\n",
    "\n",
    "\n",
    "# lower() 返回小写的字符串\n",
    "a = \"Hello, World!\"\n",
    "print(a.lower())\n",
    "\n",
    "# upper() 方法返回大写的字符串：\n",
    "a = \"Hello, World!\"\n",
    "print(a.upper())\n",
    "\n",
    "# replace() 用另一段字符串来替换字符串\n",
    "a = \"Hello, World!\"\n",
    "print(a.replace(\"o\", \"J\"))\n",
    "\n",
    "\n",
    "# split() 方法在找到分隔符的实例时将字符串拆分为子字符串：\n",
    "a = \"Hello, World!\"\n",
    "print(a.split(\",\")) # 返回 ['Hello', ' World!']\n"
   ]
  },
  {
   "attachments": {},
   "cell_type": "markdown",
   "metadata": {},
   "source": [
    "## 检查字符串\n",
    "如需检查字符串中是否存在特定短语或字符，我们可以使用 in 或 not in关键字。"
   ]
  },
  {
   "cell_type": "code",
   "execution_count": 24,
   "metadata": {},
   "outputs": [
    {
     "name": "stdout",
     "output_type": "stream",
     "text": [
      "True\n",
      "False\n"
     ]
    }
   ],
   "source": [
    "# 检查以下文本中是否存在短语 \"ain\":\n",
    "\n",
    "txt = \"The rain in Spain stays mainly in the plain\"\n",
    "x = \"ain\" in txt\n",
    "print(x)\n",
    "\n",
    "\n",
    "# 检查以下文本中是否没有短语 \"ain\":\n",
    "\n",
    "txt = \"The rain in Spain stays mainly in the plain\"\n",
    "x = \"ain\" not in txt\n",
    "print(x) "
   ]
  },
  {
   "attachments": {},
   "cell_type": "markdown",
   "metadata": {},
   "source": [
    "##字符串级联（串联）\n",
    "如需串联或组合两个字符串，您可以使用 + 运算符。"
   ]
  },
  {
   "cell_type": "code",
   "execution_count": 29,
   "metadata": {},
   "outputs": [
    {
     "name": "stdout",
     "output_type": "stream",
     "text": [
      "Hello          World\n"
     ]
    }
   ],
   "source": [
    "# 将变量 a 与变量 b 合并到变量 c 中:\n",
    "\n",
    "a = \"Hello\"\n",
    "b = \"World\"\n",
    "c = a + '          ' + b\n",
    "print(c)"
   ]
  },
  {
   "cell_type": "code",
   "execution_count": 33,
   "metadata": {},
   "outputs": [
    {
     "name": "stdout",
     "output_type": "stream",
     "text": [
      "hello, I am 张三,and I am 30 years old\n",
      "hello, I am 30,and I am 张三 years old\n"
     ]
    }
   ],
   "source": [
    "## 字符串拼接其他类型的变量\n",
    "age = 30\n",
    "name = \"张三\"\n",
    "txt = 'hello, I am {},and I am {} years old'\n",
    "txt2 = txt.format(name,age)\n",
    "print(txt2)\n",
    "\n",
    "# 使用索引号 {0} 来确保参数被放在正确的占位符中\n",
    "txt3 = 'hello, I am {1},and I am {0} years old'\n",
    "txt4 = txt3.format(name,age)\n",
    "print(txt4)"
   ]
  },
  {
   "attachments": {},
   "cell_type": "markdown",
   "metadata": {},
   "source": [
    "## 转义字符\n",
    "要在字符串中插入非法字符，请使用转义字符。\n",
    "\n",
    "转义字符是反斜杠 \\ 后跟要插入的字符。\n",
    "\n",
    "非法字符的一个例子是双引号括起来的字符串中的双引号："
   ]
  },
  {
   "cell_type": "code",
   "execution_count": 39,
   "metadata": {},
   "outputs": [
    {
     "name": "stdout",
     "output_type": "stream",
     "text": [
      "首先是游戏的'故事背景'和剧情设定。《尘白禁区》以一个神秘的\\废弃都市为背景，\n",
      "危险的世界。玩家在游\n",
      "戏中扮演的角色需要探索这个禁区，与各种怪物和敌人战斗，并解开背后的谜团。这种引人入胜的故事情节为游戏增加了一层深度和吸引力。\n",
      "其次是游戏的社交互动和多人合作模式。\t《尘白禁区》提供了多人合作模式，玩家可以与朋友组队共同完成任务和挑战。这种合作模式增加了游戏的社交性和可玩性让玩家能够与其他玩家共同探索禁区、制定战略并互相支持。\n",
      "此外，\f游戏还定期推出更新和活动，为玩家带来新的内容和挑战。\u0000开发团队会根据玩家的反馈和需求进行改进和优化，以提供更好的游戏体验。这种持续的更新和互动使得《尘白禁区》\u000e 能够保持玩家的兴趣和参与度，同时也为游戏的长期发展奠定了基础。\n"
     ]
    }
   ],
   "source": [
    "# 转义字符允许您在通常不允许的情况下使用双引号：\n",
    "\n",
    "txt = \"\"\"首先是游戏的\\'故事背景\\'和剧情设定。《尘白禁区》以一个神秘的\\\\废弃都市为背景，\\n揭示了一个充满未知和\\r危险的世界。玩家在游\\r\\n戏中扮演的角色需要探索这个禁区，与各种怪物和敌人战斗，并解开背后的谜团。这种引人入胜的故事情节为游戏增加了一层深度和吸引力。\n",
    "其次是游戏的社交互动和多人合作模式。\\t《尘白禁区》提供了多人合作模式，玩家可以与朋友组队共同完成任务和挑战。这种合作模式增加了游戏的社交性和可玩性，\\b让玩家能够与其他玩家共同探索禁区、制定战略并互相支持。\n",
    "此外，\\f游戏还定期推出更新和活动，为玩家带来新的内容和挑战。\\000开发团队会根据玩家的反馈和需求进行改进和优化，以提供更好的游戏体验。这种持续的更新和互动使得《尘白禁区》\\16 能够保持玩家的兴趣和参与度，同时也为游戏的长期发展奠定了基础。\"\"\"\n",
    "print(txt)"
   ]
  },
  {
   "attachments": {},
   "cell_type": "markdown",
   "metadata": {},
   "source": [
    "|代码\t|结果|\n",
    "|--|--|\n",
    "\\'\t| Single Quote\t\n",
    "\\\\\t| Backslash\t\n",
    "\\n\t| New Line\t\n",
    "\\r\t| Carriage Return\t\n",
    "\\t\t| Tab\t\n",
    "\\b\t| Backspace\t\n",
    "\\f\t| Form Feed\t\n",
    "\\ooo\t| Octal value\t\n",
    "\\xhh\t| Hex value"
   ]
  },
  {
   "attachments": {},
   "cell_type": "markdown",
   "metadata": {},
   "source": [
    "## 字符串方法\n",
    "Python 有一组可以在字符串上使用的内建方法\n",
    "\n",
    "|方法|\t描述|\n",
    "|--|--|\n",
    "capitalize()\t| 把首字符转换为大写。\n",
    "casefold()\t| 把字符串转换为小写。\n",
    "center()\t| 返回居中的字符串。\n",
    "count()\t| 返回指定值在字符串中出现的次数。\n",
    "encode()\t| 返回字符串的编码版本。\n",
    "endswith()\t| 如果字符串以指定值结尾，则返回 true。\n",
    "expandtabs()\t| 设置字符串的 tab 尺寸。\n",
    "find()\t| 在字符串中搜索指定的值并返回它被找到的位置。\n",
    "format()\t| 格式化字符串中的指定值。\n",
    "format_map()\t| 格式化字符串中的指定值。\n",
    "index()\t    | 在字符串中搜索指定的值并返回它被找到的位置。\n",
    "isalnum()\t| 如果字符串中的所有字符都是字母数字，则返回 True。\n",
    "isalpha()\t| 如果字符串中的所有字符都在字母表中，则返回 True。\n",
    "isdecimal()\t| 如果字符串中的所有字符都是小数，则返回 True。\n",
    "isdigit()\t| 如果字符串中的所有字符都是数字，则返回 True。\n",
    "isidentifier()\t| 如果字符串是标识符，则返回 True。\n",
    "islower()\t| 如果字符串中的所有字符都是小写，则返回 True。\n",
    "isnumeric()\t| 如果字符串中的所有字符都是数，则返回 True。\n",
    "isprintable()\t| 如果字符串中的所有字符都是可打印的，则返回 True。\n",
    "isspace()\t| 如果字符串中的所有字符都是空白字符，则返回 True。\n",
    "istitle()\t| 如果字符串遵循标题规则，则返回 True。\n",
    "isupper()\t| 如果字符串中的所有字符都是大写，则返回 True。\n",
    "join()\t| 把可迭代对象的元素连接到字符串的末尾。\n",
    "ljust()\t| 返回字符串的左对齐版本。\n",
    "lower()\t| 把字符串转换为小写。\n",
    "lstrip()\t| 返回字符串的左修剪版本。\n",
    "maketrans()\t| 返回在转换中使用的转换表。\n",
    "partition()\t| 返回元组，其中的字符串被分为三部分。\n",
    "replace()\t| 返回字符串，其中指定的值被替换为指定的值。\n",
    "rfind()\t| 在字符串中搜索指定的值，并返回它被找到的最后位置。\n",
    "rindex()\t| 在字符串中搜索指定的值，并返回它被找到的最后位置。\n",
    "rjust()\t| 返回字符串的右对齐版本。\n",
    "rpartition()\t| 返回元组，其中字符串分为三部分。\n",
    "rsplit()\t| 在指定的分隔符处拆分字符串，并返回列表。\n",
    "rstrip()\t| 返回字符串的右边修剪版本。\n",
    "split()\t| 在指定的分隔符处拆分字符串，并返回列表。\n",
    "splitlines()\t| 在换行符处拆分字符串并返回列表。\n",
    "startswith()\t| 如果以指定值开头的字符串，则返回 true。\n",
    "strip()\t| 返回字符串的剪裁版本。\n",
    "swapcase()\t| 切换大小写，小写成为大写，反之亦然。\n",
    "title()\t| 把每个单词的首字符转换为大写。\n",
    "translate()\t| 返回被转换的字符串。\n",
    "upper()\t| 把字符串转换为大写。\n",
    "zfill()\t| 在字符串的开头填充指定数量的 0 值。"
   ]
  }
 ],
 "metadata": {
  "kernelspec": {
   "display_name": "base",
   "language": "python",
   "name": "python3"
  },
  "language_info": {
   "codemirror_mode": {
    "name": "ipython",
    "version": 3
   },
   "file_extension": ".py",
   "mimetype": "text/x-python",
   "name": "python",
   "nbconvert_exporter": "python",
   "pygments_lexer": "ipython3",
   "version": "3.10.11"
  },
  "orig_nbformat": 4
 },
 "nbformat": 4,
 "nbformat_minor": 2
}
