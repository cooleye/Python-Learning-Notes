{
 "cells": [
  {
   "attachments": {},
   "cell_type": "markdown",
   "metadata": {},
   "source": [
    "# Python 集合（数组）\n",
    "Python 编程语言中有四种集合数据类型：\n",
    "\n",
    "* 列表（List） 是一种有序和可更改的集合。允许重复的成员。\n",
    "* 元组（Tuple） 是一种有序且不可更改的集合。允许重复的成员。\n",
    "* 集合（Set） 是一个无序和无索引的集合。没有重复的成员。\n",
    "* 词典（Dictionary） 是一个无序，可变和有索引的集合。没有重复的成员。\n",
    "\n",
    "选择集合类型时，了解该类型的属性很有用。\n",
    "\n",
    "为特定数据集选择正确的类型可能意味着保留含义，并且可能意味着提高效率或安全性。\n",
    "\n",
    "## 列表\n",
    "列表是一个有序且可更改的集合。在 Python 中，列表用方括号编写。\n",
    "\n"
   ]
  },
  {
   "cell_type": "code",
   "execution_count": 36,
   "metadata": {},
   "outputs": [
    {
     "name": "stdout",
     "output_type": "stream",
     "text": [
      "['apple', 'banana', 'cherry']\n",
      "banana\n",
      "cherry\n",
      "['cherry', 'orange', 'kiwi']\n",
      "['apple', 'banana', 'cherry', 'orange']\n",
      "['cherry', 'orange', 'kiwi', 'melon', 'mango']\n",
      "['orange', 'kiwi', 'melon']\n"
     ]
    }
   ],
   "source": [
    "thislist = [\"apple\", \"banana\", \"cherry\"]\n",
    "print(thislist)\n",
    "\n",
    "thislist = [\"apple\", \"banana\", \"cherry\"]\n",
    "print(thislist[1])\n",
    "\n",
    "# 负索引表示从末尾开始，-1 表示最后一个项目，-2 表示倒数第二个项目，依此类推。\n",
    "thislist = [\"apple\", \"banana\", \"cherry\"]\n",
    "print(thislist[-1])\n",
    "\n",
    "\n",
    "# 通过指定范围的起点和终点来指定索引范围。\n",
    "# 指定范围后，返回值将是包含指定项目的新列表。\n",
    "\n",
    "thislist = [\"apple\", \"banana\", \"cherry\", \"orange\", \"kiwi\", \"melon\", \"mango\"]\n",
    "# 左包右不包\n",
    "print(thislist[2:5])\n",
    "\n",
    "\n",
    "# 通过省略起始值，范围将从第一项开始：\n",
    "print(thislist[:4])\n",
    "\n",
    "# 省略结束值，范围将继续到列表的末尾：\n",
    "print(thislist[2:])\n",
    "\n",
    "\n",
    "# 如果要从列表末尾开始搜索，请指定负索引：\n",
    "print(thislist[-4:-1])"
   ]
  },
  {
   "attachments": {},
   "cell_type": "markdown",
   "metadata": {},
   "source": [
    "## 更改项目值\n",
    "如需更改特定项目的值，请引用索引号："
   ]
  },
  {
   "cell_type": "code",
   "execution_count": 37,
   "metadata": {},
   "outputs": [
    {
     "name": "stdout",
     "output_type": "stream",
     "text": [
      "['apple', 'blackcurrant', 'cherry']\n"
     ]
    }
   ],
   "source": [
    "thislist = [\"apple\", \"banana\", \"cherry\"]\n",
    "thislist[1] = \"blackcurrant\"\n",
    "print(thislist)"
   ]
  },
  {
   "attachments": {},
   "cell_type": "markdown",
   "metadata": {},
   "source": [
    "## 遍历列表\n",
    "您可以使用 for 循环遍历列表项："
   ]
  },
  {
   "cell_type": "code",
   "execution_count": 38,
   "metadata": {},
   "outputs": [
    {
     "name": "stdout",
     "output_type": "stream",
     "text": [
      "apple\n",
      "banana\n",
      "cherry\n"
     ]
    }
   ],
   "source": [
    "# 逐个打印列表中的所有项目：\n",
    "\n",
    "thislist = [\"apple\", \"banana\", \"cherry\"]\n",
    "for x in thislist:\n",
    "  print(x)"
   ]
  },
  {
   "attachments": {},
   "cell_type": "markdown",
   "metadata": {},
   "source": [
    "## 检查项目是否存在\n",
    "如需确定列表中是否存在指定的项，请使用 in 关键字："
   ]
  },
  {
   "cell_type": "code",
   "execution_count": 39,
   "metadata": {},
   "outputs": [
    {
     "name": "stdout",
     "output_type": "stream",
     "text": [
      "Yes, 'apple' is in the fruits list\n"
     ]
    }
   ],
   "source": [
    "# 检查列表中是否存在 \"apple\"：\n",
    "\n",
    "thislist = [\"apple\", \"banana\", \"cherry\"]\n",
    "if \"apple\" in thislist:\n",
    "  print(\"Yes, 'apple' is in the fruits list\")"
   ]
  },
  {
   "attachments": {},
   "cell_type": "markdown",
   "metadata": {},
   "source": [
    "## 列表长度\n",
    "如需确定列表中有多少项，请使用 len() 方法:"
   ]
  },
  {
   "cell_type": "code",
   "execution_count": 40,
   "metadata": {},
   "outputs": [
    {
     "name": "stdout",
     "output_type": "stream",
     "text": [
      "3\n"
     ]
    }
   ],
   "source": [
    "# 打印列表中的项目数：\n",
    "\n",
    "thislist = [\"apple\", \"banana\", \"cherry\"]\n",
    "print(len(thislist))"
   ]
  },
  {
   "attachments": {},
   "cell_type": "markdown",
   "metadata": {},
   "source": [
    "## 添加项目\n",
    "如需将项目添加到列表的末尾，请使用 append() 方法："
   ]
  },
  {
   "cell_type": "code",
   "execution_count": 41,
   "metadata": {},
   "outputs": [
    {
     "name": "stdout",
     "output_type": "stream",
     "text": [
      "['apple', 'banana', 'cherry', 'orange']\n",
      "['apple', 'orange', 'banana', 'cherry']\n"
     ]
    }
   ],
   "source": [
    "# 使用 append() 方法追加项目：\n",
    "\n",
    "thislist = [\"apple\", \"banana\", \"cherry\"]\n",
    "thislist.append(\"orange\")\n",
    "print(thislist)\n",
    "\n",
    "# 要在指定的索引处添加项目，请使用 insert() 方法：\n",
    "thislist = [\"apple\", \"banana\", \"cherry\"]\n",
    "thislist.insert(1, \"orange\")\n",
    "print(thislist)"
   ]
  },
  {
   "attachments": {},
   "cell_type": "markdown",
   "metadata": {},
   "source": [
    "## 删除项目\n",
    "有几种方法可以从列表中删除项目："
   ]
  },
  {
   "cell_type": "code",
   "execution_count": 42,
   "metadata": {},
   "outputs": [
    {
     "name": "stdout",
     "output_type": "stream",
     "text": [
      "['apple', 'cherry']\n",
      "banana\n",
      "['apple', 'cherry']\n",
      "['banana', 'cherry']\n",
      "[]\n"
     ]
    }
   ],
   "source": [
    "# remove() 方法删除指定的项目：\n",
    "\n",
    "thislist = [\"apple\", \"banana\", \"cherry\"]\n",
    "thislist.remove(\"banana\")\n",
    "print(thislist)\n",
    "\n",
    "\n",
    "# pop() 方法删除指定的索引（如果未指定索引，则删除最后一项）：\n",
    "\n",
    "thislist = [\"apple\", \"banana\", \"cherry\"]\n",
    "# thislist.pop(1)\n",
    "print(thislist.pop(1))\n",
    "print(thislist)\n",
    "\n",
    "\n",
    "# del 关键字删除指定的索引：\n",
    "\n",
    "thislist = [\"apple\", \"banana\", \"cherry\"]\n",
    "del thislist[0]\n",
    "print(thislist)\n",
    "\n",
    "# del 关键字也能完整地删除列表：\n",
    "\n",
    "thislist = [\"apple\", \"banana\", \"cherry\"]\n",
    "del thislist\n",
    "# print(thislist)\n",
    "\n",
    "\n",
    "\n",
    "# clear() 方法清空列表：\n",
    "\n",
    "thislist = [\"apple\", \"banana\", \"cherry\"]\n",
    "thislist.clear()\n",
    "print(thislist)"
   ]
  },
  {
   "attachments": {},
   "cell_type": "markdown",
   "metadata": {},
   "source": [
    "## 复制列表\n",
    "您只能通过键入 list2 = \n",
    "list1来复制列表，因为：list2 将只是对 list1 的引用, list1 中所做的更改也将自动在 list2 中进行。\n",
    "\n",
    "有一些方法可以进行复制，一种方法是使用内置的 List 方法 copy()。"
   ]
  },
  {
   "cell_type": "code",
   "execution_count": 43,
   "metadata": {},
   "outputs": [
    {
     "name": "stdout",
     "output_type": "stream",
     "text": [
      "['apple', 'banana', 'cherry']\n",
      "['apple', 'banana', 'cherry']\n"
     ]
    }
   ],
   "source": [
    "# 使用 copy() 方法来复制列表：\n",
    "thislist = [\"apple\", \"banana\", \"cherry\"]\n",
    "mylist = thislist.copy()\n",
    "thislist[0] = \"苹果\"\n",
    "print(mylist)\n",
    "\n",
    "\n",
    "# 制作副本的另一种方法是使用内建的方法 list()。\n",
    "thislist = [\"apple\", \"banana\", \"cherry\"]\n",
    "mylist = list(thislist)\n",
    "print(mylist)"
   ]
  },
  {
   "attachments": {},
   "cell_type": "markdown",
   "metadata": {},
   "source": [
    "## 合并两个列表\n",
    "在 Python 中，有几种方法可以连接或串联两个或多个列表。\n",
    "\n",
    "最简单的方法之一是使用 + 运算符。"
   ]
  },
  {
   "cell_type": "code",
   "execution_count": 44,
   "metadata": {},
   "outputs": [
    {
     "name": "stdout",
     "output_type": "stream",
     "text": [
      "['a', 'b', 'c', 1, 2, 3]\n",
      "['a', 'b', 'c', 1, 2, 3]\n",
      "['a', 'b', 'c', 1, 2, 3]\n"
     ]
    }
   ],
   "source": [
    "# 合并两个列表：\n",
    "\n",
    "list1 = [\"a\", \"b\" , \"c\"]\n",
    "list2 = [1, 2, 3]\n",
    "\n",
    "list3 = list1 + list2\n",
    "print(list3)\n",
    "\n",
    "\n",
    "# 连接两个列表的另一种方法是将 list2 中的所有项一个接一个地追加到 list1 中：\n",
    "list1 = [\"a\", \"b\" , \"c\"]\n",
    "list2 = [1, 2, 3]\n",
    "\n",
    "for x in list2:\n",
    "  list1.append(x)\n",
    "\n",
    "print(list1)\n",
    "\n",
    "\n",
    "# 或者，您可以使用 extend() 方法，其目的是将一个列表中的元素添加到另一列表中：\n",
    "list1 = [\"a\", \"b\" , \"c\"]\n",
    "list2 = [1, 2, 3]\n",
    "\n",
    "list1.extend(list2)\n",
    "print(list1)"
   ]
  },
  {
   "attachments": {},
   "cell_type": "markdown",
   "metadata": {},
   "source": [
    "## list() 构造函数\n",
    "也可以使用 list() 构造函数创建一个新列表。\n",
    "\n"
   ]
  },
  {
   "cell_type": "code",
   "execution_count": 45,
   "metadata": {},
   "outputs": [
    {
     "name": "stdout",
     "output_type": "stream",
     "text": [
      "['apple', 'banana', 'cherry']\n"
     ]
    }
   ],
   "source": [
    "# 使用 list() 构造函数创建列表：\n",
    "\n",
    "thislist = list((\"apple\", \"banana\", \"cherry\")) # 注意双圆括号\n",
    "print(thislist)"
   ]
  },
  {
   "attachments": {},
   "cell_type": "markdown",
   "metadata": {},
   "source": [
    "列表方法\n",
    "Python 有一组可以在列表上使用的内建方法。\n",
    "\n",
    "|方法   |\t描述    |\n",
    "|--|--|\n",
    "append()\t|   在列表的末尾添加一个元素\n",
    "clear()\t|   删除列表中的所有元素\n",
    "copy()\t|   返回列表的副本\n",
    "count()\t|   返回具有指定值的元素数量。\n",
    "extend()\t|   将列表元素（或任何可迭代的元素）添加到当前列表的末尾\n",
    "index()\t|   返回具有指定值的第一个元素的索引\n",
    "insert()\t|   在指定位置添加元素\n",
    "pop()\t|   删除指定位置的元素\n",
    "remove()\t|   删除具有指定值的项目\n",
    "reverse()\t|   颠倒列表的顺序\n",
    "sort()\t|   对列表进行排序"
   ]
  }
 ],
 "metadata": {
  "kernelspec": {
   "display_name": "base",
   "language": "python",
   "name": "python3"
  },
  "language_info": {
   "codemirror_mode": {
    "name": "ipython",
    "version": 3
   },
   "file_extension": ".py",
   "mimetype": "text/x-python",
   "name": "python",
   "nbconvert_exporter": "python",
   "pygments_lexer": "ipython3",
   "version": "3.10.11"
  },
  "orig_nbformat": 4
 },
 "nbformat": 4,
 "nbformat_minor": 2
}
