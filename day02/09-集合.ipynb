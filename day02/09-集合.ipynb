{
 "cells": [
  {
   "attachments": {},
   "cell_type": "markdown",
   "metadata": {},
   "source": [
    "# 集合（Set）\n",
    "集合是无序和无索引的集合。在 Python 中，集合用花括号编写。"
   ]
  },
  {
   "cell_type": "code",
   "execution_count": 1,
   "metadata": {},
   "outputs": [
    {
     "name": "stdout",
     "output_type": "stream",
     "text": [
      "{'apple', 'banana', 'cherry'}\n"
     ]
    }
   ],
   "source": [
    "# 创建集合：\n",
    "\n",
    "thisset = {\"apple\", \"banana\", \"cherry\"}\n",
    "print(thisset)"
   ]
  },
  {
   "attachments": {},
   "cell_type": "markdown",
   "metadata": {},
   "source": [
    "## 访问项目\n",
    "您无法通过引用索引来访问 set 中的项目，因为 set 是无序的，项目没有索引。\n",
    "\n",
    "但是您可以使用 for 循环遍历 set 项目，或者使用 in 关键字查询集合中是否存在指定值。\n",
    "\n"
   ]
  },
  {
   "cell_type": "code",
   "execution_count": 3,
   "metadata": {},
   "outputs": [
    {
     "name": "stdout",
     "output_type": "stream",
     "text": [
      "apple\n",
      "banana\n",
      "cherry\n",
      "True\n"
     ]
    }
   ],
   "source": [
    "# 遍历集合，并打印值：\n",
    "\n",
    "thisset = {\"apple\", \"banana\", \"cherry\"}\n",
    "\n",
    "for x in thisset:\n",
    "  print(x)\n",
    "\n",
    "\n",
    "\n",
    "# 检查 set 中是否存在 \"banana\"：\n",
    "\n",
    "thisset = {\"apple\", \"banana\", \"cherry\"}\n",
    "\n",
    "print(\"banana\" in thisset)"
   ]
  },
  {
   "attachments": {},
   "cell_type": "markdown",
   "metadata": {},
   "source": [
    "## 更改项目\n",
    "集合一旦创建，您就无法更改项目，但是您可以添加新项目。"
   ]
  },
  {
   "cell_type": "code",
   "execution_count": 5,
   "metadata": {},
   "outputs": [
    {
     "name": "stdout",
     "output_type": "stream",
     "text": [
      "{'orange', 'banana', 'cherry', 'apple'}\n",
      "{'mango', 'banana', 'grapes', 'cherry', 'orange', 'apple'}\n"
     ]
    }
   ],
   "source": [
    "# 使用 add() 方法向 set 添加项目：\n",
    "\n",
    "thisset = {\"apple\", \"banana\", \"cherry\"}\n",
    "\n",
    "thisset.add(\"orange\")\n",
    "\n",
    "print(thisset)\n",
    "\n",
    "\n",
    "# 使用 update() 方法将多个项添加到集合中：\n",
    "\n",
    "thisset = {\"apple\", \"banana\", \"cherry\"}\n",
    "\n",
    "thisset.update([\"orange\", \"mango\", \"grapes\"])\n",
    "\n",
    "print(thisset)"
   ]
  },
  {
   "attachments": {},
   "cell_type": "markdown",
   "metadata": {},
   "source": [
    "## 获取 Set 的长度\n",
    "要确定集合中有多少项，请使用 len() 方法。"
   ]
  },
  {
   "cell_type": "code",
   "execution_count": 6,
   "metadata": {},
   "outputs": [
    {
     "name": "stdout",
     "output_type": "stream",
     "text": [
      "3\n"
     ]
    }
   ],
   "source": [
    "# 获取集合中的项目数：\n",
    "\n",
    "thisset = {\"apple\", \"banana\", \"cherry\"}\n",
    "\n",
    "print(len(thisset))"
   ]
  },
  {
   "attachments": {},
   "cell_type": "markdown",
   "metadata": {},
   "source": [
    "## 删除项目\n",
    "要删除集合中的项目，请使用 remove(), 或 discard() 方法。"
   ]
  },
  {
   "cell_type": "code",
   "execution_count": 18,
   "metadata": {},
   "outputs": [
    {
     "name": "stdout",
     "output_type": "stream",
     "text": [
      "{'cherry', 'apple'}\n",
      "{'cherry', 'apple'}\n",
      "banana\n",
      "{'cherry', 'apple'}\n",
      "set()\n"
     ]
    },
    {
     "ename": "NameError",
     "evalue": "name 'thisset' is not defined",
     "output_type": "error",
     "traceback": [
      "\u001b[0;31m---------------------------------------------------------------------------\u001b[0m",
      "\u001b[0;31mNameError\u001b[0m                                 Traceback (most recent call last)",
      "Cell \u001b[0;32mIn[18], line 47\u001b[0m\n\u001b[1;32m     43\u001b[0m thisset \u001b[39m=\u001b[39m {\u001b[39m\"\u001b[39m\u001b[39mapple\u001b[39m\u001b[39m\"\u001b[39m, \u001b[39m\"\u001b[39m\u001b[39mbanana\u001b[39m\u001b[39m\"\u001b[39m, \u001b[39m\"\u001b[39m\u001b[39mcherry\u001b[39m\u001b[39m\"\u001b[39m}\n\u001b[1;32m     45\u001b[0m \u001b[39mdel\u001b[39;00m thisset\n\u001b[0;32m---> 47\u001b[0m \u001b[39mprint\u001b[39m(thisset)\n",
      "\u001b[0;31mNameError\u001b[0m: name 'thisset' is not defined"
     ]
    }
   ],
   "source": [
    "# 使用 remove() 方法来删 \"banana\" :\n",
    "# 注释: 如果要删除的项目不存在，则 remove() 将引发错误。\n",
    "thisset = {\"apple\", \"banana\", \"cherry\"}\n",
    "\n",
    "thisset.remove(\"banana\")\n",
    "\n",
    "print(thisset)\n",
    "\n",
    "\n",
    "# 使用 discard() 方法来删除 \"banana\":\n",
    "# 注释: 如果要删除的项目不存在，则 discard() 不会引发错误。\n",
    "thisset = {\"apple\", \"banana\", \"cherry\"}\n",
    "\n",
    "thisset.discard(\"banana\")\n",
    "\n",
    "print(thisset)\n",
    "\n",
    "\n",
    "\n",
    "# 您还可以使用 pop()方法删除项目，但此方法将删除最后一项。请记住，set 是无序的，因此您不会知道被删除的是什么项目。\n",
    "# pop() 方法的返回值是被删除的项目。\n",
    "# 注释: 集合是无序的，因此在使用 pop() 方法时，您不会知道删除的是哪个项目。\n",
    "thisset = {\"apple\", \"banana\", \"cherry\"}\n",
    "\n",
    "x = thisset.pop()\n",
    "\n",
    "print(x)\n",
    "\n",
    "print(thisset)\n",
    "\n",
    "\n",
    "# clear() 方法清空集合：\n",
    "\n",
    "thisset = {\"apple\", \"banana\", \"cherry\"}\n",
    "\n",
    "thisset.clear()\n",
    "\n",
    "print(thisset)\n",
    "\n",
    "\n",
    "# del 彻底删除集合：\n",
    "\n",
    "thisset = {\"apple\", \"banana\", \"cherry\"}\n",
    "\n",
    "del thisset\n",
    "\n",
    "print(thisset)"
   ]
  },
  {
   "attachments": {},
   "cell_type": "markdown",
   "metadata": {},
   "source": [
    "## 合并两个集合\n",
    "在 Python 中，有几种方法可以连接两个或多个集合。\n",
    "\n",
    "您可以使用 union() 方法返回包含两个集合中所有项目的新集合，也可以使用 update() 方法将一个集合中的所有项目插入另一个集合中：\n",
    "\n"
   ]
  },
  {
   "cell_type": "code",
   "execution_count": 20,
   "metadata": {},
   "outputs": [
    {
     "name": "stdout",
     "output_type": "stream",
     "text": [
      "{1, 2, 3, 'b', 'a', 'c'}\n",
      "{1, 2, 3, 'b', 'a', 'c'}\n"
     ]
    }
   ],
   "source": [
    "# union() 方法返回一个新集合，其中包含两个集合中的所有项目：\n",
    "\n",
    "set1 = {\"a\", \"b\" , \"c\"}\n",
    "set2 = {1, 2, 3}\n",
    "\n",
    "set3 = set1.union(set2)\n",
    "print(set3)\n",
    "\n",
    "\n",
    "# update() 方法将 set2 中的项目插入 set1 中：\n",
    "\n",
    "set1 = {\"a\", \"b\" , \"c\"}\n",
    "set2 = {1, 2, 3}\n",
    "\n",
    "set1.update(set2)\n",
    "print(set1)\n",
    "# 注释: union() 和 update()都将排除任何重复项。"
   ]
  },
  {
   "attachments": {},
   "cell_type": "markdown",
   "metadata": {},
   "source": [
    "## set() 构造函数\n",
    "也可以使用 set() 构造函数来创建集合。\n",
    "\n"
   ]
  },
  {
   "cell_type": "code",
   "execution_count": null,
   "metadata": {},
   "outputs": [],
   "source": [
    "# 使用 set() 构造函数来创建集合：\n",
    "\n",
    "thisset = set((\"apple\", \"banana\", \"cherry\")) # 注意双圆括号\n",
    "print(thisset)"
   ]
  },
  {
   "attachments": {},
   "cell_type": "markdown",
   "metadata": {},
   "source": [
    "## Set 方法\n",
    "Python 拥有一套能够在集合（set）上使用的内建方法。\n",
    "\n",
    "|方法|\t描述|\n",
    "|--|--|\n",
    "add()\t|   向集合添加元素。\n",
    "clear()\t|   删除集合中的所有元素。\n",
    "copy()\t|   返回集合的副本。\n",
    "difference()\t|   返回包含两个或更多集合之间差异的集合。\n",
    "difference_update()\t|   删除此集合中也包含在另一个指定集合中的项目。\n",
    "discard()\t|   删除指定项目。\n",
    "intersection()\t|   返回为两个其他集合的交集的集合。\n",
    "intersection_update()\t|   删除此集合中不存在于其他指定集合中的项目。\n",
    "isdisjoint()\t|   返回两个集合是否有交集。\n",
    "issubset()\t|   返回另一个集合是否包含此集合。\n",
    "issuperset()\t|   返回此集合是否包含另一个集合。\n",
    "pop()\t|   从集合中删除一个元素。\n",
    "remove()\t|   删除指定元素。\n",
    "symmetric_difference()\t|   返回具有两组集合的对称差集的集合。\n",
    "symmetric_difference_update()\t|   插入此集合和另一个集合的对称差集。\n",
    "union()\t|   返回包含集合并集的集合。\n",
    "update()\t|   用此集合和其他集合的并集来更新集合。"
   ]
  }
 ],
 "metadata": {
  "kernelspec": {
   "display_name": "base",
   "language": "python",
   "name": "python3"
  },
  "language_info": {
   "codemirror_mode": {
    "name": "ipython",
    "version": 3
   },
   "file_extension": ".py",
   "mimetype": "text/x-python",
   "name": "python",
   "nbconvert_exporter": "python",
   "pygments_lexer": "ipython3",
   "version": "3.10.11"
  },
  "orig_nbformat": 4
 },
 "nbformat": 4,
 "nbformat_minor": 2
}
