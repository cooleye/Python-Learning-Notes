{
 "cells": [
  {
   "attachments": {},
   "cell_type": "markdown",
   "metadata": {},
   "source": [
    "# Python 数组\n",
    "请注意，Python 没有内置对数组的支持，但可以使用 Python 列表代替。"
   ]
  },
  {
   "attachments": {},
   "cell_type": "markdown",
   "metadata": {},
   "source": [
    "## 数组\n",
    "数组用于在单个变量中存储多个值："
   ]
  },
  {
   "cell_type": "code",
   "execution_count": 2,
   "metadata": {},
   "outputs": [],
   "source": [
    "# 创建一个包含汽车品牌的数组：\n",
    "\n",
    "cars = [\"Ford\", \"Volvo\", \"BMW\"]"
   ]
  },
  {
   "attachments": {},
   "cell_type": "markdown",
   "metadata": {},
   "source": [
    "# 访问数组元素\n",
    "通过索引号来引用数组元素。\n",
    "\n"
   ]
  },
  {
   "cell_type": "code",
   "execution_count": 8,
   "metadata": {},
   "outputs": [
    {
     "name": "stdout",
     "output_type": "stream",
     "text": [
      "Toyota\n",
      "Volvo\n",
      "BMW\n"
     ]
    },
    {
     "data": {
      "text/plain": [
       "'Volvo'"
      ]
     },
     "execution_count": 8,
     "metadata": {},
     "output_type": "execute_result"
    }
   ],
   "source": [
    "cars = [\"Ford\", \"Volvo\", \"BMW\"]\n",
    "# 获取首个数组项目的值：\n",
    "\n",
    "x = cars[0]\n",
    "\n",
    "# 修改首个数组项目的值：\n",
    "\n",
    "cars[0] = \"Toyota\"\n",
    "\n",
    "# 返回 cars 数组中的元素数量：\n",
    "\n",
    "x = len(cars)\n",
    "\n",
    "\n",
    "# 打印 cars 数组中的每个项目：\n",
    "\n",
    "for x in cars:\n",
    "  print(x)\n",
    "\n",
    "\n",
    "# 使用 append() 方法把元素添加到数组中。\n",
    "#   向 cars 数组再添加一个元素：\n",
    "\n",
    "cars.append(\"Honda\")\n",
    "\n",
    "\n",
    "# 使用 pop() 方法从数组中删除元素。\n",
    "cars.pop(1)\n",
    "\n",
    "# 使用 remove() 方法从数组中删除元素。\n",
    "# 删除值为 \"Volvo\" 的元素：\n",
    "# 列表的 remove() 方法仅删除首次出现的指定值。\n",
    "# cars.remove(\"Volvo\")"
   ]
  },
  {
   "attachments": {},
   "cell_type": "markdown",
   "metadata": {},
   "source": [
    "# 数组方法\n",
    "Python 提供一组可以在列表或数组上使用的内建方法。\n",
    "|方法|\t描述|\n",
    "|--|--|\n",
    "append()\t|   在列表的末尾添加一个元素\n",
    "clear()\t|   删除列表中的所有元素\n",
    "copy()\t|   返回列表的副本\n",
    "count()\t|   返回具有指定值的元素数量。\n",
    "extend()\t|   将列表元素（或任何可迭代的元素）添加到当前列表的末尾\n",
    "index()\t|   返回具有指定值的第一个元素的索引\n",
    "insert()\t|   在指定位置添加元素\n",
    "pop()\t|   删除指定位置的元素\n",
    "remove()\t|   删除具有指定值的项目\n",
    "reverse()\t|   颠倒列表的顺序\n",
    "sort()\t|   对列表进行排序"
   ]
  },
  {
   "attachments": {},
   "cell_type": "markdown",
   "metadata": {},
   "source": []
  }
 ],
 "metadata": {
  "kernelspec": {
   "display_name": "base",
   "language": "python",
   "name": "python3"
  },
  "language_info": {
   "codemirror_mode": {
    "name": "ipython",
    "version": 3
   },
   "file_extension": ".py",
   "mimetype": "text/x-python",
   "name": "python",
   "nbconvert_exporter": "python",
   "pygments_lexer": "ipython3",
   "version": "3.10.11"
  },
  "orig_nbformat": 4
 },
 "nbformat": 4,
 "nbformat_minor": 2
}
