{
 "cells": [
  {
   "attachments": {},
   "cell_type": "markdown",
   "metadata": {},
   "source": [
    "# Python 继承\n",
    "继承允许我们定义继承另一个类的所有方法和属性的类。\n",
    "\n",
    "父类是继承的类，也称为基类。\n",
    "\n",
    "子类是从另一个类继承的类，也称为派生类。\n",
    "\n",
    "## 创建父类\n",
    "任何类都可以是父类，因此语法与创建任何其他类相同："
   ]
  },
  {
   "cell_type": "code",
   "execution_count": 1,
   "metadata": {},
   "outputs": [
    {
     "name": "stdout",
     "output_type": "stream",
     "text": [
      "John Doe\n"
     ]
    }
   ],
   "source": [
    "# 创建一个名为 Person 的类，其中包含 firstname 和 lastname 属性以及 printname 方法：\n",
    "\n",
    "class Person:\n",
    "  def __init__(self, fname, lname):\n",
    "    self.firstname = fname\n",
    "    self.lastname = lname\n",
    "\n",
    "  def printname(self):\n",
    "    print(self.firstname, self.lastname)\n",
    "\n",
    "#Use the Person class to create an object, and then execute the printname method:\n",
    "\n",
    "x = Person(\"John\", \"Doe\")\n",
    "x.printname()"
   ]
  },
  {
   "attachments": {},
   "cell_type": "markdown",
   "metadata": {},
   "source": [
    "## 创建子类\n",
    "要创建从其他类继承功能的类，请在创建子类时将父类作为参数发送：\n",
    "\n"
   ]
  },
  {
   "cell_type": "code",
   "execution_count": 2,
   "metadata": {},
   "outputs": [
    {
     "name": "stdout",
     "output_type": "stream",
     "text": [
      "张三 尼古拉斯\n"
     ]
    }
   ],
   "source": [
    "# 创建一个名为 Student 的类，它将从 Person 类继承属性和方法：\n",
    "\n",
    "class Student(Person):\n",
    "  pass\n",
    "\n",
    "\n",
    "s = Student(\"张三\",\"尼古拉斯\")\n",
    "s.printname()"
   ]
  },
  {
   "attachments": {},
   "cell_type": "markdown",
   "metadata": {},
   "source": [
    "> 注释: 如果您不想向该类添加任何其他属性或方法，请使用 pass 关键字。"
   ]
  },
  {
   "attachments": {},
   "cell_type": "markdown",
   "metadata": {},
   "source": [
    "## 添加 `__init__()` 函数\n",
    "到目前为止，我们已经创建了一个子类，它继承了父类的属性和方法。\n",
    "\n",
    "我们想要把 `__init__()` 函数添加到子类（而不是 pass 关键字）。\n",
    "\n",
    "> 注释: 每次使用类创建新对象时，都会自动调用 `__init__()` 函数。"
   ]
  },
  {
   "cell_type": "code",
   "execution_count": 4,
   "metadata": {},
   "outputs": [
    {
     "ename": "SyntaxError",
     "evalue": "incomplete input (3739276771.py, line 4)",
     "output_type": "error",
     "traceback": [
      "\u001b[0;36m  Cell \u001b[0;32mIn[4], line 4\u001b[0;36m\u001b[0m\n\u001b[0;31m    def __init__(self, fname, lname):\u001b[0m\n\u001b[0m                                     ^\u001b[0m\n\u001b[0;31mSyntaxError\u001b[0m\u001b[0;31m:\u001b[0m incomplete input\n"
     ]
    }
   ],
   "source": [
    "# 为 Student 类添加 __init__() 函数：\n",
    "\n",
    "class Student(Person):\n",
    "  def __init__(self, fname, lname):\n",
    "    #add properties etc."
   ]
  },
  {
   "attachments": {},
   "cell_type": "markdown",
   "metadata": {},
   "source": [
    "当您添加 `__init__()` 函数时，子类将不再继承父的 `__init__()` 函数。\n",
    "\n",
    "> 注释: 子的 `__init__()` 函数会覆盖对父的 `__init__()` 函数的继承。"
   ]
  },
  {
   "cell_type": "code",
   "execution_count": 5,
   "metadata": {},
   "outputs": [
    {
     "name": "stdout",
     "output_type": "stream",
     "text": [
      "20\n"
     ]
    }
   ],
   "source": [
    "# 如需保持父的 __init__() 函数的继承，请添加对父的 __init__() 函数的调用：\n",
    "class Student(Person):\n",
    "  def __init__(self, fname, lname,age):\n",
    "    # 调用父类的构造函数\n",
    "    Person.__init__(self, fname, lname)\n",
    "    # 子类扩展的其他属性\n",
    "    self.age = age\n",
    "\n",
    "\n",
    "s1 = Student(\"赵四\",\"尼古拉斯\",20)\n",
    "print(s1.age)"
   ]
  },
  {
   "attachments": {},
   "cell_type": "markdown",
   "metadata": {},
   "source": [
    "## 使用 super() 函数\n",
    "Python 还有一个 super() 函数，它会使子类从其父继承所有方法和属性："
   ]
  },
  {
   "cell_type": "code",
   "execution_count": 7,
   "metadata": {},
   "outputs": [
    {
     "name": "stdout",
     "output_type": "stream",
     "text": [
      "20\n"
     ]
    }
   ],
   "source": [
    "class Student(Person):\n",
    "  def __init__(self, fname, lname,age):\n",
    "    super().__init__(fname, lname)\n",
    "    self.age = age\n",
    "s2 = Student(\"王舞\",\"尼古拉斯\",20)\n",
    "print(s2.age)"
   ]
  },
  {
   "attachments": {},
   "cell_type": "markdown",
   "metadata": {},
   "source": [
    "## 添加方法"
   ]
  },
  {
   "cell_type": "code",
   "execution_count": null,
   "metadata": {},
   "outputs": [],
   "source": [
    "# 把名为 welcome 的方法添加到 Student 类：\n",
    "\n",
    "class Student(Person):\n",
    "  def __init__(self, fname, lname, year):\n",
    "    super().__init__(fname, lname)\n",
    "    self.graduationyear = year\n",
    "\n",
    "  def welcome(self):\n",
    "    print(\"Welcome\", self.firstname, self.lastname, \"to the class of\", self.graduationyear)"
   ]
  }
 ],
 "metadata": {
  "kernelspec": {
   "display_name": "base",
   "language": "python",
   "name": "python3"
  },
  "language_info": {
   "codemirror_mode": {
    "name": "ipython",
    "version": 3
   },
   "file_extension": ".py",
   "mimetype": "text/x-python",
   "name": "python",
   "nbconvert_exporter": "python",
   "pygments_lexer": "ipython3",
   "version": "3.10.11"
  },
  "orig_nbformat": 4
 },
 "nbformat": 4,
 "nbformat_minor": 2
}
