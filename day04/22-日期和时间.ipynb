{
 "cells": [
  {
   "attachments": {},
   "cell_type": "markdown",
   "metadata": {},
   "source": [
    "# Python 日期\n",
    "Python 中的日期不是其自身的数据类型，但是我们可以导入名为 datetime 的模块，把日期视作日期对象进行处理。"
   ]
  },
  {
   "cell_type": "code",
   "execution_count": 1,
   "metadata": {},
   "outputs": [
    {
     "name": "stdout",
     "output_type": "stream",
     "text": [
      "2023-06-05 19:21:28.832205\n"
     ]
    }
   ],
   "source": [
    "# 导入 datetime 模块并显示当前日期：\n",
    "\n",
    "import datetime\n",
    "\n",
    "x = datetime.datetime.now()\n",
    "print(x)"
   ]
  },
  {
   "attachments": {},
   "cell_type": "markdown",
   "metadata": {},
   "source": [
    "## 日期输出\n",
    "如果我们执行上面的代码，结果将是：\n",
    "\n",
    "\n",
    "2023-06-05 19:16:18.286756\n",
    "日期包含年、月、日、小时、分钟、秒和微秒。\n",
    "\n",
    "datetime 模块有许多方法可以返回有关日期对象的信息。\n",
    "\n",
    "以下是一些例子，您将在本章稍后详细学习它们："
   ]
  },
  {
   "cell_type": "code",
   "execution_count": 2,
   "metadata": {},
   "outputs": [
    {
     "name": "stdout",
     "output_type": "stream",
     "text": [
      "2023\n",
      "Monday\n"
     ]
    }
   ],
   "source": [
    "# 返回 weekday 的名称和年份：\n",
    "\n",
    "import datetime\n",
    "\n",
    "x = datetime.datetime.now()\n",
    "\n",
    "print(x.year)\n",
    "print(x.strftime(\"%A\"))"
   ]
  },
  {
   "attachments": {},
   "cell_type": "markdown",
   "metadata": {},
   "source": [
    "## 创建日期对象\n",
    "如需创建日期，我们可以使用 datetime 模块的 datetime() 类（构造函数）。\n",
    "\n",
    "datetime() 类需要三个参数来创建日期：年、月、日。"
   ]
  },
  {
   "cell_type": "code",
   "execution_count": 6,
   "metadata": {},
   "outputs": [
    {
     "name": "stdout",
     "output_type": "stream",
     "text": [
      "2020-05-17 13:45:20.000123\n"
     ]
    }
   ],
   "source": [
    "# 创建日期对象：\n",
    "\n",
    "import datetime\n",
    "\n",
    "x = datetime.datetime(2020, 5, 17)\n",
    "\n",
    "# datetime() 类还接受时间和时区（小时、分钟、秒、微秒、tzone）的参数，不过它们是可选的，默认值为 0，（时区默认为 None）。\n",
    "x = datetime.datetime(2020, 5, 17,13,45,20,123)\n",
    "\n",
    "print(x)"
   ]
  },
  {
   "attachments": {},
   "cell_type": "markdown",
   "metadata": {},
   "source": [
    "## strftime() 方法\n",
    "datetime 对象拥有把日期对象格式化为可读字符串的方法。\n",
    "\n",
    "该方法称为 strftime()，并使用一个 format 参数来指定返回字符串的格式："
   ]
  },
  {
   "cell_type": "code",
   "execution_count": 7,
   "metadata": {},
   "outputs": [
    {
     "name": "stdout",
     "output_type": "stream",
     "text": [
      "June\n"
     ]
    }
   ],
   "source": [
    "# 显示月份的名称：\n",
    "\n",
    "import datetime\n",
    "\n",
    "x = datetime.datetime(2018, 6, 1)\n",
    "\n",
    "print(x.strftime(\"%B\"))"
   ]
  },
  {
   "attachments": {},
   "cell_type": "markdown",
   "metadata": {},
   "source": [
    "所有合法格式代码的参考：\n",
    "|指令|\t描述|\t实例|\n",
    "|--|--|--|\n",
    "%a\t|   Weekday，短版本\t|   Wed\t\n",
    "%A\t|   Weekday，完整版本\t|   Wednesday\t\n",
    "%w\t|   Weekday，数字 0-6，0 为周日\t|   3\t\n",
    "%d\t|   日，数字 01-31\t|   31\t\n",
    "%b\t|   月名称，短版本\t|   Dec\t\n",
    "%B\t|   月名称，完整版本\t|   December\t\n",
    "%m\t|   月，数字01-12\t|   12\t\n",
    "%y\t|   年，短版本，无世纪\t|   18\t\n",
    "%Y\t|   年，完整版本\t|   2018\t\n",
    "%H\t|   小时，00-23\t|   17\t\n",
    "%I\t|   小时，00-12\t|   05\t\n",
    "%p\t|   AM/PM\t|   PM\t\n",
    "%M\t|   分，00-59\t|   41\t\n",
    "%S\t|   秒，00-59\t|   08\t\n",
    "%f\t|   微妙，000000-999999\t|   548513\t\n",
    "%z\t|   UTC 偏移\t|   +0100\t\n",
    "%Z\t|   时区\t|   CST\t\n",
    "%j\t|   天数，001-366\t|   365\t\n",
    "%U\t|   周数，每周的第一天是周日，00-53\t|   52\t\n",
    "%W\t|   周数，每周的第一天是周一，00-53\t|   52\t\n",
    "%c\t|   日期和时间的本地版本\t|   Mon Dec 31 17:41:00 2018\t\n",
    "%x\t|   日期的本地版本\t|   12/31/18\t\n",
    "%X\t|   时间的本地版本\t|   17:41:00\t\n",
    "%%\t|   A % character\t|   %\t\n"
   ]
  }
 ],
 "metadata": {
  "kernelspec": {
   "display_name": "base",
   "language": "python",
   "name": "python3"
  },
  "language_info": {
   "codemirror_mode": {
    "name": "ipython",
    "version": 3
   },
   "file_extension": ".py",
   "mimetype": "text/x-python",
   "name": "python",
   "nbconvert_exporter": "python",
   "pygments_lexer": "ipython3",
   "version": "3.10.11"
  },
  "orig_nbformat": 4
 },
 "nbformat": 4,
 "nbformat_minor": 2
}
