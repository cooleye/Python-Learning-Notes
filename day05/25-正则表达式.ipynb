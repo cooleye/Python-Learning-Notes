{
 "cells": [
  {
   "attachments": {},
   "cell_type": "markdown",
   "metadata": {},
   "source": [
    "# Python 正则表达式\n",
    "RegEx 或正则表达式是形成搜索模式的字符序列。\n",
    "\n",
    "RegEx 可用于检查字符串是否包含指定的搜索模式。\n",
    "\n",
    "## RegEx 模块\n",
    "Python 提供名为 re 的内置包，可用于处理正则表达式。\n",
    "\n"
   ]
  },
  {
   "cell_type": "code",
   "execution_count": 5,
   "metadata": {},
   "outputs": [],
   "source": [
    "# 导入 re 模块：\n",
    "import re"
   ]
  },
  {
   "cell_type": "code",
   "execution_count": 6,
   "metadata": {},
   "outputs": [
    {
     "name": "stdout",
     "output_type": "stream",
     "text": [
      "<re.Match object; span=(0, 17), match='The rain in Spain'>\n"
     ]
    }
   ],
   "source": [
    "# 检索字符串以查看它是否以 \"The\" 开头并以 \"Spain\" 结尾：\n",
    "\n",
    "import re\n",
    "\n",
    "txt = \"The rain in Spain\"\n",
    "x = re.search(\"^The.*Spain$\", txt)\n",
    "print(x)"
   ]
  },
  {
   "attachments": {},
   "cell_type": "markdown",
   "metadata": {},
   "source": [
    "## RegEx 函数\n",
    "re 模块提供了一组函数，允许我们检索字符串以进行匹配：\n",
    "\n",
    "|   函数\t|   描述|   \n",
    "|--|--|\n",
    "findall\t|   返回包含所有匹配项的列表\n",
    "search\t|   如果字符串中的任意位置存在匹配，则返回 Match 对象\n",
    "split\t|   返回在每次匹配时拆分字符串的列表\n",
    "sub\t|   用字符串替换一个或多个匹配项"
   ]
  },
  {
   "attachments": {},
   "cell_type": "markdown",
   "metadata": {},
   "source": [
    "## 元字符\n",
    "元字符是具有特殊含义的字符：\n",
    "\n",
    "字符|   \t描述\t|   实例\n",
    "|--|--|--|\n",
    "[]\t|   一组字符\t|   \"[a-m]\"\t\n",
    "\\\t|   示意特殊序列（也可用于转义特殊字符）\t|   \"\\d\"\t\n",
    ".\t|   任何字符（换行符除外）\t|   \"he..o\"\t\n",
    "^\t|   起始于\t|   \"^hello\"\t\n",
    "$\t|   结束于\t|   \"world$\"\t\n",
    "\\*\t|   零次或多次出现\t|   \"aix*\"\t\n",
    "\\+\t|   一次或多次出现\t|   \"aix+\"\t\n",
    "{}\t|   确切地指定的出现次数\t|   \"al{2}\"\t\n",
    "\\|\t|   两者任一\t|   \"falls|stays\"\t\n",
    "()\t|   捕获和分组  | "
   ]
  },
  {
   "attachments": {},
   "cell_type": "markdown",
   "metadata": {},
   "source": [
    "## 特殊序列\n",
    "特殊序列指的是 \\ 后跟下表中的某个字符，拥有特殊含义：\n",
    "\n",
    "字符    |\t描述\t|   实例\t|   \n",
    "|--|--|--|\n",
    "\\A\t|   如果指定的字符位于字符串的开头，则返回匹配项\t|   \"\\AThe\"\t\n",
    "\\b\t|   返回指定字符位于单词的开头或末尾的匹配项\t|   r\"\\bain\"    r\"ain\\b\"\t\n",
    "\\B\t|   返回指定字符存在的匹配项，但不在单词的开头（或结尾处）\t|   r\"\\Bain\"   r\"ain\\B\"\t\n",
    "\\d\t|   返回字符串包含数字的匹配项（数字 0-9）\t|   \"\\d\"\t\n",
    "\\D\t|   返回字符串不包含数字的匹配项\t|   \"\\D\"\t\n",
    "\\s\t|   返回字符串包含空白字符的匹配项\t|   \"\\s\"\t\n",
    "\\S\t|   返回字符串不包含空白字符的匹配项\t|   \"\\S\"\t\n",
    "\\w\t|   返回一个匹配项，其中字符串包含任何单词字符 |    （从 a 到 Z 的字符，从 0 到 9 的数字和下划线 _ 字符）\t\"\\w\"\t\n",
    "\\W\t|   返回一个匹配项，其中字符串不包含任何单词字符\t|   \"\\W\"\t\n",
    "\\Z\t|   如果指定的字符位于字符串的末尾，则返回匹配项\t|   \"Spain\\Z\"\t\n"
   ]
  },
  {
   "attachments": {},
   "cell_type": "markdown",
   "metadata": {},
   "source": [
    "## 集合（Set）\n",
    "集合（Set）是一对方括号 [] 内的一组字符，具有特殊含义：\n",
    "\n",
    "集合\t|   描述\t| \n",
    "|--|--|\n",
    "[arn]\t|   返回一个匹配项，其中存在指定字符（a，r 或 n）之一\t\n",
    "[a-n]\t|   返回字母顺序 a 和 n 之间的任意小写字符匹配项\t\n",
    "[^arn]\t|   返回除 a、r 和 n 之外的任意字符的匹配项\t\n",
    "[0123]\t|   返回存在任何指定数字（0、1、2 或 3）的匹配项\t\n",
    "[0-9]\t|   返回 0 与 9 之间任意数字的匹配\t\n",
    "[0-5][0-9]\t|   返回介于 0 到 9 之间的任何数字的匹配项\t\n",
    "[a-zA-Z]\t|   返回字母顺序 a 和 z 之间的任何字符的匹配，小写或大写\t\n",
    "[+]\t|   在集合中，+、*、.、|、()、$、{} 没有特殊含义，因此 [+] 表示：返回字符串中任何 + 字符的匹配"
   ]
  },
  {
   "attachments": {},
   "cell_type": "markdown",
   "metadata": {},
   "source": [
    "## findall() 函数\n",
    "findall() 函数返回包含所有匹配项的列表。"
   ]
  },
  {
   "cell_type": "code",
   "execution_count": 7,
   "metadata": {},
   "outputs": [
    {
     "name": "stdout",
     "output_type": "stream",
     "text": [
      "['ai', 'ai']\n"
     ]
    }
   ],
   "source": [
    "# 打印所有匹配的列表：\n",
    "\n",
    "import re\n",
    "\n",
    "txt = \"The rain in Spain\"\n",
    "x = re.findall(\"ai\", txt)\n",
    "print(x)"
   ]
  },
  {
   "cell_type": "code",
   "execution_count": 9,
   "metadata": {},
   "outputs": [
    {
     "name": "stdout",
     "output_type": "stream",
     "text": [
      "[]\n"
     ]
    }
   ],
   "source": [
    "# 如果未找到匹配，则返回空列表：\n",
    "\n",
    "import re\n",
    "\n",
    "txt = \"The rain in Spain\"\n",
    "x = re.findall(\"Portugal\", txt)\n",
    "print(x)"
   ]
  },
  {
   "attachments": {},
   "cell_type": "markdown",
   "metadata": {},
   "source": [
    "## search() 函数\n",
    "search() 函数搜索字符串中的匹配项，如果存在匹配则返回 Match 对象。\n",
    "\n",
    "如果有多个匹配，则仅返回首个匹配项："
   ]
  },
  {
   "cell_type": "code",
   "execution_count": 10,
   "metadata": {},
   "outputs": [
    {
     "name": "stdout",
     "output_type": "stream",
     "text": [
      "The first white-space character is located in position: 3\n"
     ]
    }
   ],
   "source": [
    "# 在字符串中搜索第一个空白字符：\n",
    "\n",
    "import re\n",
    "\n",
    "txt = \"The rain in Spain\"\n",
    "x = re.search(\"\\s\", txt)\n",
    "\n",
    "print(\"The first white-space character is located in position:\", x.start())"
   ]
  },
  {
   "cell_type": "code",
   "execution_count": 11,
   "metadata": {},
   "outputs": [
    {
     "name": "stdout",
     "output_type": "stream",
     "text": [
      "None\n"
     ]
    }
   ],
   "source": [
    "# 进行不返回匹配的检索，如果未找到匹配，则返回值 None：\n",
    "\n",
    "import re\n",
    "\n",
    "txt = \"The rain in Spain\"\n",
    "x = re.search(\"Portugal\", txt)\n",
    "print(x)"
   ]
  },
  {
   "attachments": {},
   "cell_type": "markdown",
   "metadata": {},
   "source": [
    "## split() 函数\n",
    "split() 函数返回一个列表，其中字符串在每次匹配时被拆分："
   ]
  },
  {
   "cell_type": "code",
   "execution_count": 12,
   "metadata": {},
   "outputs": [
    {
     "name": "stdout",
     "output_type": "stream",
     "text": [
      "['The', 'rain', 'in', 'Spain']\n"
     ]
    }
   ],
   "source": [
    "# 在每个空白字符处进行拆分：\n",
    "\n",
    "import re\n",
    "\n",
    "txt = \"The rain in Spain\"\n",
    "x = re.split(\"\\s\", txt)\n",
    "print(x)"
   ]
  },
  {
   "attachments": {},
   "cell_type": "markdown",
   "metadata": {},
   "source": [
    "您可以通过指定 maxsplit 参数来控制出现次数："
   ]
  },
  {
   "cell_type": "code",
   "execution_count": 14,
   "metadata": {},
   "outputs": [
    {
     "name": "stdout",
     "output_type": "stream",
     "text": [
      "['The', 'rain in Spain']\n"
     ]
    }
   ],
   "source": [
    "# 仅在首次出现时拆分字符串：\n",
    "\n",
    "import re\n",
    "\n",
    "txt = \"The rain in Spain\"\n",
    "x = re.split(\"\\s\", txt, 1)\n",
    "print(x)"
   ]
  },
  {
   "attachments": {},
   "cell_type": "markdown",
   "metadata": {},
   "source": [
    "## sub() 函数\n",
    "sub() 函数把匹配替换为您选择的文本："
   ]
  },
  {
   "cell_type": "code",
   "execution_count": 15,
   "metadata": {},
   "outputs": [
    {
     "name": "stdout",
     "output_type": "stream",
     "text": [
      "The9rain9in9Spain\n"
     ]
    }
   ],
   "source": [
    "# 用数字 9 替换每个空白字符：\n",
    "\n",
    "import re\n",
    "\n",
    "txt = \"The rain in Spain\"\n",
    "x = re.sub(\"\\s\", \"9\", txt)\n",
    "print(x)"
   ]
  },
  {
   "attachments": {},
   "cell_type": "markdown",
   "metadata": {},
   "source": [
    "您可以通过指定 count 参数来控制替换次数：\n",
    "\n"
   ]
  },
  {
   "cell_type": "code",
   "execution_count": 16,
   "metadata": {},
   "outputs": [
    {
     "name": "stdout",
     "output_type": "stream",
     "text": [
      "The9rain9in Spain\n"
     ]
    }
   ],
   "source": [
    "# 替换前两次出现：\n",
    "\n",
    "import re\n",
    "\n",
    "txt = \"The rain in Spain\"\n",
    "x = re.sub(\"\\s\", \"9\", txt, 2)\n",
    "print(x)"
   ]
  },
  {
   "attachments": {},
   "cell_type": "markdown",
   "metadata": {},
   "source": [
    "## Match 对象\n",
    "Match 对象是包含有关搜索和结果信息的对象。\n",
    "\n",
    "> 注释: 如果没有匹配，则返回值 None，而不是 Match 对象。"
   ]
  },
  {
   "cell_type": "code",
   "execution_count": 17,
   "metadata": {},
   "outputs": [
    {
     "name": "stdout",
     "output_type": "stream",
     "text": [
      "<re.Match object; span=(5, 7), match='ai'>\n"
     ]
    }
   ],
   "source": [
    "# 执行会返回 Match 对象的搜索：\n",
    "\n",
    "import re\n",
    "\n",
    "txt = \"The rain in Spain\"\n",
    "x = re.search(\"ai\", txt)\n",
    "print(x) #this will print an object"
   ]
  },
  {
   "attachments": {},
   "cell_type": "markdown",
   "metadata": {},
   "source": [
    "Match 对象提供了用于取回有关搜索及结果信息的属性和方法：\n",
    "\n",
    "* .span() 返回的元组包含了匹配的开始和结束位置\n",
    "* .string 返回传入函数的字符串\n",
    "* .group() 返回匹配的字符串部分"
   ]
  },
  {
   "cell_type": "code",
   "execution_count": 18,
   "metadata": {},
   "outputs": [
    {
     "name": "stdout",
     "output_type": "stream",
     "text": [
      "(12, 17)\n"
     ]
    }
   ],
   "source": [
    "# 打印首个匹配出现的位置（开始和结束位置）。\n",
    "\n",
    "# 正则表达式查找以大写 \"S\" 开头的任何单词：\n",
    "\n",
    "import re\n",
    "\n",
    "txt = \"The rain in Spain\"\n",
    "x = re.search(r\"\\bS\\w+\", txt)\n",
    "print(x.span())"
   ]
  },
  {
   "cell_type": "code",
   "execution_count": null,
   "metadata": {},
   "outputs": [],
   "source": [
    "# 打印传入函数的字符串：\n",
    "\n",
    "import re\n",
    "\n",
    "txt = \"The rain in Spain\"\n",
    "x = re.search(r\"\\bS\\w+\", txt)\n",
    "print(x.string)"
   ]
  },
  {
   "cell_type": "code",
   "execution_count": null,
   "metadata": {},
   "outputs": [],
   "source": [
    "# 打印匹配的字符串部分。\n",
    "\n",
    "# 正则表达式查找以大写 \"S\" 开头的任何单词：\n",
    "\n",
    "import re\n",
    "\n",
    "txt = \"The rain in Spain\"\n",
    "x = re.search(r\"\\bS\\w+\", txt)\n",
    "print(x.group())"
   ]
  },
  {
   "attachments": {},
   "cell_type": "markdown",
   "metadata": {},
   "source": [
    "> 注释: 如果没有匹配项，则返回值 None，而不是 Match 对象。"
   ]
  }
 ],
 "metadata": {
  "kernelspec": {
   "display_name": "base",
   "language": "python",
   "name": "python3"
  },
  "language_info": {
   "codemirror_mode": {
    "name": "ipython",
    "version": 3
   },
   "file_extension": ".py",
   "mimetype": "text/x-python",
   "name": "python",
   "nbconvert_exporter": "python",
   "pygments_lexer": "ipython3",
   "version": "3.10.11"
  },
  "orig_nbformat": 4
 },
 "nbformat": 4,
 "nbformat_minor": 2
}
