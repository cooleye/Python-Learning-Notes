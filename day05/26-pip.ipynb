{
 "cells": [
  {
   "attachments": {},
   "cell_type": "markdown",
   "metadata": {},
   "source": [
    "# PIP\n",
    "\n",
    "## 什么是 PIP？\n",
    "PIP 是 Python 包或模块的包管理器。\n",
    "\n",
    "> 注释: 如果您使用的是 Python 3.4 或更高版本，则默认情况下会包含 PIP。\n",
    "\n",
    "## 什么是包（Package）？\n",
    "包中包含模块所需的所有文件。\n",
    "\n",
    "模块是您可以包含在项目中的 Python 代码库。\n",
    "\n",
    "检查是否已安装 PIP\n",
    "将命令行导航到 Python 脚本目录所在的位置，然后键入以下内容："
   ]
  },
  {
   "cell_type": "code",
   "execution_count": 1,
   "metadata": {
    "vscode": {
     "languageId": "shellscript"
    }
   },
   "outputs": [
    {
     "name": "stdout",
     "output_type": "stream",
     "text": [
      "pip 23.1.2 from /Users/kongdejian/miniconda3/lib/python3.10/site-packages/pip (python 3.10)\n",
      "Note: you may need to restart the kernel to use updated packages.\n"
     ]
    }
   ],
   "source": [
    "pip --version"
   ]
  },
  {
   "attachments": {},
   "cell_type": "markdown",
   "metadata": {},
   "source": [
    "## 安装 PIP\n",
    "如果尚未安装 PIP，可以从此页面下载并安装： https://pypi.org/project/pip/\n",
    "\n",
    "## 下载包\n",
    "下载包非常容易。\n",
    "\n",
    "打开命令行界面并告诉 PIP 下载您需要的软件包。\n",
    "\n",
    "将命令行导航到 Python 脚本目录的位置，然后键入以下内容："
   ]
  },
  {
   "cell_type": "code",
   "execution_count": null,
   "metadata": {
    "vscode": {
     "languageId": "shellscript"
    }
   },
   "outputs": [],
   "source": [
    "# 下载名为 \"camelcase\" 的包：\n",
    "\n",
    "pip install camelcase"
   ]
  },
  {
   "attachments": {},
   "cell_type": "markdown",
   "metadata": {},
   "source": [
    "## 使用包\n",
    "安装包后，即可使用。\n",
    "\n",
    "把 \"camelcase\" 包导入您的项目中"
   ]
  },
  {
   "cell_type": "code",
   "execution_count": 2,
   "metadata": {},
   "outputs": [
    {
     "ename": "ModuleNotFoundError",
     "evalue": "No module named 'camelcase'",
     "output_type": "error",
     "traceback": [
      "\u001b[0;31m---------------------------------------------------------------------------\u001b[0m",
      "\u001b[0;31mModuleNotFoundError\u001b[0m                       Traceback (most recent call last)",
      "Cell \u001b[0;32mIn[2], line 3\u001b[0m\n\u001b[1;32m      1\u001b[0m \u001b[39m# 导入并使用 \"camelcase\"：\u001b[39;00m\n\u001b[0;32m----> 3\u001b[0m \u001b[39mimport\u001b[39;00m \u001b[39mcamelcase\u001b[39;00m\n\u001b[1;32m      5\u001b[0m c \u001b[39m=\u001b[39m camelcase\u001b[39m.\u001b[39mCamelCase()\n\u001b[1;32m      7\u001b[0m txt \u001b[39m=\u001b[39m \u001b[39m\"\u001b[39m\u001b[39mhello world\u001b[39m\u001b[39m\"\u001b[39m\n",
      "\u001b[0;31mModuleNotFoundError\u001b[0m: No module named 'camelcase'"
     ]
    }
   ],
   "source": [
    "# 导入并使用 \"camelcase\"：\n",
    "\n",
    "import camelcase\n",
    "\n",
    "c = camelcase.CamelCase()\n",
    "\n",
    "txt = \"hello world\"\n",
    "\n",
    "print(c.hump(txt))"
   ]
  },
  {
   "attachments": {},
   "cell_type": "markdown",
   "metadata": {},
   "source": [
    "## 查找包\n",
    "在 https://pypi.org/，您可以找到更多的包。\n",
    "\n",
    "## 删除包\n",
    "请使用 uninstall 命令来删除包：\n",
    "\n"
   ]
  },
  {
   "cell_type": "code",
   "execution_count": null,
   "metadata": {
    "vscode": {
     "languageId": "shellscript"
    }
   },
   "outputs": [],
   "source": [
    "# 卸载名为 \"camelcase\" 的包：\n",
    "pip uninstall camelcase"
   ]
  },
  {
   "attachments": {},
   "cell_type": "markdown",
   "metadata": {},
   "source": [
    "## 列出包\n",
    "请使用 list 命令列出系统上安装的所有软件包："
   ]
  },
  {
   "cell_type": "code",
   "execution_count": 3,
   "metadata": {
    "vscode": {
     "languageId": "shellscript"
    }
   },
   "outputs": [
    {
     "name": "stdout",
     "output_type": "stream",
     "text": [
      "Package                 Version\n",
      "----------------------- --------\n",
      "aiohttp                 3.8.4\n",
      "aiosignal               1.3.1\n",
      "anyio                   3.7.0\n",
      "appnope                 0.1.3\n",
      "argilla                 1.8.0\n",
      "asttokens               2.2.1\n",
      "async-timeout           4.0.2\n",
      "attrs                   23.1.0\n",
      "backcall                0.2.0\n",
      "backoff                 2.2.1\n",
      "boltons                 23.0.0\n",
      "brotlipy                0.7.0\n",
      "certifi                 2023.5.7\n",
      "cffi                    1.15.1\n",
      "chardet                 5.1.0\n",
      "charset-normalizer      2.0.4\n",
      "chromadb                0.3.25\n",
      "click                   8.1.3\n",
      "clickhouse-connect      0.5.25\n",
      "coloredlogs             15.0.1\n",
      "comm                    0.1.3\n",
      "commonmark              0.9.1\n",
      "conda                   23.5.0\n",
      "conda-content-trust     0.1.3\n",
      "conda-package-handling  2.1.0\n",
      "conda_package_streaming 0.8.0\n",
      "cryptography            39.0.1\n",
      "dataclasses-json        0.5.7\n",
      "debugpy                 1.6.7\n",
      "decorator               5.1.1\n",
      "Deprecated              1.2.14\n",
      "dnspython               2.3.0\n",
      "duckdb                  0.8.0\n",
      "et-xmlfile              1.1.0\n",
      "exceptiongroup          1.1.1\n",
      "executing               1.2.0\n",
      "fastapi                 0.95.2\n",
      "flatbuffers             23.5.26\n",
      "frozenlist              1.3.3\n",
      "google-search-results   2.4.2\n",
      "greenlet                2.0.2\n",
      "h11                     0.14.0\n",
      "hnswlib                 0.7.0\n",
      "httpcore                0.16.3\n",
      "httptools               0.5.0\n",
      "httpx                   0.23.3\n",
      "humanfriendly           10.0\n",
      "idna                    3.4\n",
      "ipykernel               6.23.1\n",
      "ipython                 8.13.2\n",
      "jedi                    0.18.2\n",
      "joblib                  1.2.0\n",
      "jsonpatch               1.32\n",
      "jsonpointer             2.1\n",
      "jupyter_client          8.2.0\n",
      "jupyter_core            5.3.0\n",
      "langchain               0.0.188\n",
      "loguru                  0.7.0\n",
      "lxml                    4.9.2\n",
      "lz4                     4.3.2\n",
      "Markdown                3.4.3\n",
      "marshmallow             3.19.0\n",
      "marshmallow-enum        1.5.1\n",
      "matplotlib-inline       0.1.6\n",
      "monotonic               1.6\n",
      "mpmath                  1.3.0\n",
      "msg-parser              1.2.0\n",
      "multidict               6.0.4\n",
      "mypy-extensions         1.0.0\n",
      "nest-asyncio            1.5.6\n",
      "nltk                    3.8.1\n",
      "numexpr                 2.8.4\n",
      "numpy                   1.23.5\n",
      "olefile                 0.46\n",
      "onnxruntime             1.15.0\n",
      "openai                  0.27.7\n",
      "openapi-schema-pydantic 1.2.4\n",
      "openpyxl                3.1.2\n",
      "overrides               7.3.1\n",
      "packaging               23.1\n",
      "pandas                  1.5.3\n",
      "parso                   0.8.3\n",
      "pdfminer.six            20221105\n",
      "pexpect                 4.8.0\n",
      "pickleshare             0.7.5\n",
      "Pillow                  9.5.0\n",
      "pinecone-client         2.2.1\n",
      "pip                     23.0.1\n",
      "platformdirs            3.5.1\n",
      "pluggy                  1.0.0\n",
      "posthog                 3.0.1\n",
      "prompt-toolkit          3.0.38\n",
      "protobuf                4.23.2\n",
      "psutil                  5.9.5\n",
      "ptyprocess              0.7.0\n",
      "pure-eval               0.2.2\n",
      "pycosat                 0.6.4\n",
      "pycparser               2.21\n",
      "pydantic                1.10.8\n",
      "Pygments                2.15.1\n",
      "pyOpenSSL               23.0.0\n",
      "pypandoc                1.11\n",
      "PySocks                 1.7.1\n",
      "python-dateutil         2.8.2\n",
      "python-docx             0.8.11\n",
      "python-dotenv           1.0.0\n",
      "python-magic            0.4.27\n",
      "python-pptx             0.6.21\n",
      "pytube                  15.0.0\n",
      "pytz                    2023.3\n",
      "PyYAML                  6.0\n",
      "pyzmq                   25.1.0\n",
      "regex                   2023.5.5\n",
      "requests                2.29.0\n",
      "rfc3986                 1.5.0\n",
      "rich                    13.0.1\n",
      "ruamel.yaml             0.17.21\n",
      "ruamel.yaml.clib        0.2.6\n",
      "setuptools              66.0.0\n",
      "six                     1.16.0\n",
      "sniffio                 1.3.0\n",
      "SQLAlchemy              2.0.15\n",
      "stack-data              0.6.2\n",
      "starlette               0.27.0\n",
      "sympy                   1.12\n",
      "tenacity                8.2.2\n",
      "tokenizers              0.13.3\n",
      "toolz                   0.12.0\n",
      "tornado                 6.3.2\n",
      "tqdm                    4.65.0\n",
      "traitlets               5.9.0\n",
      "typer                   0.9.0\n",
      "typing_extensions       4.6.2\n",
      "typing-inspect          0.9.0\n",
      "unstructured            0.7.1\n",
      "urllib3                 1.26.15\n",
      "uvicorn                 0.22.0\n",
      "uvloop                  0.17.0\n",
      "watchfiles              0.19.0\n",
      "wcwidth                 0.2.6\n",
      "websockets              11.0.3\n",
      "wheel                   0.38.4\n",
      "wrapt                   1.14.1\n",
      "xlrd                    2.0.1\n",
      "XlsxWriter              3.1.2\n",
      "yarl                    1.9.2\n",
      "youtube-transcript-api  0.6.0\n",
      "zstandard               0.19.0\n",
      "\n",
      "\u001b[1m[\u001b[0m\u001b[34;49mnotice\u001b[0m\u001b[1;39;49m]\u001b[0m\u001b[39;49m A new release of pip is available: \u001b[0m\u001b[31;49m23.0.1\u001b[0m\u001b[39;49m -> \u001b[0m\u001b[32;49m23.1.2\u001b[0m\n",
      "\u001b[1m[\u001b[0m\u001b[34;49mnotice\u001b[0m\u001b[1;39;49m]\u001b[0m\u001b[39;49m To update, run: \u001b[0m\u001b[32;49mpip install --upgrade pip\u001b[0m\n",
      "Note: you may need to restart the kernel to use updated packages.\n"
     ]
    }
   ],
   "source": [
    "pip list"
   ]
  }
 ],
 "metadata": {
  "kernelspec": {
   "display_name": "base",
   "language": "python",
   "name": "python3"
  },
  "language_info": {
   "codemirror_mode": {
    "name": "ipython",
    "version": 3
   },
   "file_extension": ".py",
   "mimetype": "text/x-python",
   "name": "python",
   "nbconvert_exporter": "python",
   "pygments_lexer": "ipython3",
   "version": "3.10.11"
  },
  "orig_nbformat": 4
 },
 "nbformat": 4,
 "nbformat_minor": 2
}
