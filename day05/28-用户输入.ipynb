{
 "cells": [
  {
   "attachments": {},
   "cell_type": "markdown",
   "metadata": {},
   "source": [
    "# 用户输入\n",
    "Python 允许命令行输入。\n",
    "\n",
    "这意味着我们能够要求用户输入。\n",
    "\n",
    "Python 3.6 中的方法与 Python 2.7 略有不同。\n",
    "\n",
    "Python 3.6 使用 input() 方法。\n",
    "\n",
    "Python 2.7 使用 raw_input() 方法。\n",
    "\n",
    "下面的例子会询问用户的姓名，当您输入名字时，名字将打印到屏幕上："
   ]
  },
  {
   "cell_type": "code",
   "execution_count": 1,
   "metadata": {},
   "outputs": [
    {
     "name": "stdout",
     "output_type": "stream",
     "text": [
      "Username is: hello\n"
     ]
    }
   ],
   "source": [
    "username = input(\"Enter username:\")\n",
    "print(\"Username is: \" + username)"
   ]
  },
  {
   "cell_type": "code",
   "execution_count": 3,
   "metadata": {},
   "outputs": [],
   "source": [
    "# Python 2.7\n",
    "# username = raw_input(\"Enter username:\")\n",
    "# print(\"Username is: \" + username)"
   ]
  }
 ],
 "metadata": {
  "kernelspec": {
   "display_name": "base",
   "language": "python",
   "name": "python3"
  },
  "language_info": {
   "codemirror_mode": {
    "name": "ipython",
    "version": 3
   },
   "file_extension": ".py",
   "mimetype": "text/x-python",
   "name": "python",
   "nbconvert_exporter": "python",
   "pygments_lexer": "ipython3",
   "version": "3.10.11"
  },
  "orig_nbformat": 4
 },
 "nbformat": 4,
 "nbformat_minor": 2
}
