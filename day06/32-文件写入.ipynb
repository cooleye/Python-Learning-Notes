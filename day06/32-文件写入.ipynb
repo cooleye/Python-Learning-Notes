{
 "cells": [
  {
   "attachments": {},
   "cell_type": "markdown",
   "metadata": {},
   "source": [
    "## 写入已有文件\n",
    "如需写入已有的文件，必须向 open() 函数添加参数：\n",
    "\n",
    "* \"a\" - 追加 - 会追加到文件的末尾\n",
    "\n",
    "* \"w\" - 写入 - 会覆盖任何已有的内容"
   ]
  },
  {
   "cell_type": "code",
   "execution_count": null,
   "metadata": {},
   "outputs": [],
   "source": [
    "# 打开文件 \"demofile3.txt\" 并覆盖内容：\n",
    "\n",
    "f = open(\"demofile3.txt\", \"w\")\n",
    "f.write(\"Woops! I have deleted the content!\")\n",
    "f.close()\n",
    "\n",
    "#追加后打开并读取文件:\n",
    "f = open(\"demofile3.txt\", \"r\")\n",
    "print(f.read())"
   ]
  },
  {
   "attachments": {},
   "cell_type": "markdown",
   "metadata": {},
   "source": [
    "> 注释: \"w\" 方法会覆盖全部内容。"
   ]
  },
  {
   "attachments": {},
   "cell_type": "markdown",
   "metadata": {},
   "source": [
    "## 创建新文件\n",
    "如需在 Python 中创建新文件，请使用 open() 方法，并使用以下参数之一：\n",
    "\n",
    "* \"x\" - 创建 - 将创建一个文件，如果文件存在则返回错误\n",
    "\n",
    "* \"a\" - 追加 - 如果指定的文件不存在，将创建一个文件\n",
    "\n",
    "* \"w\" - 写入 - 如果指定的文件不存在，将创建一个文件"
   ]
  },
  {
   "cell_type": "code",
   "execution_count": 1,
   "metadata": {},
   "outputs": [],
   "source": [
    "# 创建名为 \"myfile.txt\" 的文件：\n",
    "\n",
    "f = open(\"myfile.txt\", \"x\")"
   ]
  },
  {
   "cell_type": "code",
   "execution_count": null,
   "metadata": {},
   "outputs": [],
   "source": [
    "# 如果不存在，则创建新文件：\n",
    "\n",
    "f = open(\"myfile.txt\", \"w\")"
   ]
  }
 ],
 "metadata": {
  "kernelspec": {
   "display_name": "base",
   "language": "python",
   "name": "python3"
  },
  "language_info": {
   "codemirror_mode": {
    "name": "ipython",
    "version": 3
   },
   "file_extension": ".py",
   "mimetype": "text/x-python",
   "name": "python",
   "nbconvert_exporter": "python",
   "pygments_lexer": "ipython3",
   "version": "3.10.11"
  },
  "orig_nbformat": 4
 },
 "nbformat": 4,
 "nbformat_minor": 2
}
